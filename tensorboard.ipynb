{
 "cells": [
  {
   "cell_type": "code",
   "execution_count": 1,
   "metadata": {},
   "outputs": [],
   "source": [
    "import os\n",
    "import glob\n",
    "import numpy as np\n",
    "import tensorflow as tf\n",
    "import matplotlib.pyplot as plt\n",
    "\n",
    "from tensorflow.keras import layers\n",
    "from datetime import datetime\n",
    "%matplotlib inline\n",
    "%load_ext tensorboard"
   ]
  },
  {
   "cell_type": "markdown",
   "metadata": {},
   "source": [
    "### Hyperparameter"
   ]
  },
  {
   "cell_type": "code",
   "execution_count": 2,
   "metadata": {},
   "outputs": [],
   "source": [
    "num_epochs = 10\n",
    "batch_size = 32\n",
    "learning_rate = 0.001\n",
    "dropout_rate = 0.5\n",
    "input_shape = (32, 32, 3)\n",
    "num_classes = 10"
   ]
  },
  {
   "cell_type": "markdown",
   "metadata": {},
   "source": [
    "### Build Model"
   ]
  },
  {
   "cell_type": "code",
   "execution_count": 3,
   "metadata": {},
   "outputs": [],
   "source": [
    "inputs = layers.Input(input_shape)\n",
    "l = layers.Conv2D(32, (3, 3), padding='SAME')(inputs)\n",
    "l = layers.Activation('relu')(l)\n",
    "l = layers.Conv2D(32, (3, 3), padding='SAME')(l)\n",
    "l = layers.Activation('relu')(l)\n",
    "l = layers.MaxPool2D(pool_size=(2, 2))(l)\n",
    "l = layers.Dropout(dropout_rate)(l)\n",
    "\n",
    "l = layers.Conv2D(64, (3, 3), padding='SAME')(l)\n",
    "l = layers.Activation('relu')(l)\n",
    "l = layers.Conv2D(64, (3, 3), padding='SAME')(l)\n",
    "l = layers.Activation('relu')(l)\n",
    "l = layers.MaxPool2D(pool_size=(2, 2))(l)\n",
    "l = layers.Dropout(dropout_rate)(l)\n",
    "\n",
    "l = layers.Flatten()(l)\n",
    "l = layers.Dense(512)(l)\n",
    "l = layers.Activation('relu')(l)\n",
    "l = layers.Dense(128)(l)\n",
    "l = layers.Activation('relu')(l)\n",
    "l = layers.Dropout(dropout_rate)(l)\n",
    "l = layers.Dense(num_classes)(l)\n",
    "outputs = layers.Activation('softmax')(l)\n",
    "\n",
    "model = tf.keras.Model(inputs=inputs, outputs=outputs, name='cnnv1')"
   ]
  },
  {
   "cell_type": "code",
   "execution_count": 6,
   "metadata": {},
   "outputs": [],
   "source": [
    "model.compile(\n",
    "    optimizer=tf.keras.optimizers.Adam(learning_rate),\n",
    "    loss='sparse_categorical_crossentropy',\n",
    "    metrics=['accuracy']\n",
    ")"
   ]
  },
  {
   "cell_type": "markdown",
   "metadata": {},
   "source": [
    "### Data Preprocessing"
   ]
  },
  {
   "cell_type": "code",
   "execution_count": 7,
   "metadata": {},
   "outputs": [
    {
     "data": {
      "text/plain": [
       "['.DS_Store', 'test', 'labels.txt', 'train']"
      ]
     },
     "execution_count": 7,
     "metadata": {},
     "output_type": "execute_result"
    }
   ],
   "source": [
    "os.listdir('dataset/cifar/')"
   ]
  },
  {
   "cell_type": "code",
   "execution_count": 8,
   "metadata": {},
   "outputs": [
    {
     "data": {
      "text/plain": [
       "(1000, 1000)"
      ]
     },
     "execution_count": 8,
     "metadata": {},
     "output_type": "execute_result"
    }
   ],
   "source": [
    "train_dataset_path = glob.glob('dataset/cifar/train/*.png')[:1000]\n",
    "test_dataset_path = glob.glob('dataset/cifar/test/*.png')[:1000]\n",
    "len(train_dataset_path), len(test_dataset_path)"
   ]
  },
  {
   "cell_type": "code",
   "execution_count": 9,
   "metadata": {},
   "outputs": [],
   "source": [
    "def get_class_name(path):\n",
    "    return path.split('_')[-1].replace('.png', '')"
   ]
  },
  {
   "cell_type": "code",
   "execution_count": 10,
   "metadata": {},
   "outputs": [
    {
     "data": {
      "text/plain": [
       "array(['airplane', 'automobile', 'bird', 'cat', 'deer', 'dog', 'frog',\n",
       "       'horse', 'ship', 'truck'], dtype='<U10')"
      ]
     },
     "execution_count": 10,
     "metadata": {},
     "output_type": "execute_result"
    }
   ],
   "source": [
    "class_category = [get_class_name(path) for path in train_dataset_path]\n",
    "class_category = np.unique(class_category)\n",
    "class_category"
   ]
  },
  {
   "cell_type": "code",
   "execution_count": 11,
   "metadata": {},
   "outputs": [],
   "source": [
    "def get_sparse_label(path):\n",
    "    global class_category\n",
    "    fname = tf.strings.split(path, '_')[-1]\n",
    "    cls_name = tf.strings.regex_replace(fname, '.png', '')\n",
    "    onehot = tf.cast(class_category == cls_name, tf.uint8)\n",
    "    return tf.argmax(onehot)\n",
    "\n",
    "def read_dataset(path):\n",
    "    gfile = tf.io.read_file(path)\n",
    "    image = tf.io.decode_image(gfile)\n",
    "    image = tf.cast(image, tf.float32) / 255.\n",
    "    label = get_sparse_label(path)\n",
    "    return image, label\n",
    "\n",
    "def image_preprocess(image, label):\n",
    "    image = tf.image.random_flip_left_right(image)\n",
    "    return image, label\n"
   ]
  },
  {
   "cell_type": "code",
   "execution_count": 12,
   "metadata": {},
   "outputs": [],
   "source": [
    "AUTOTUNE = tf.data.experimental.AUTOTUNE"
   ]
  },
  {
   "cell_type": "code",
   "execution_count": 13,
   "metadata": {},
   "outputs": [],
   "source": [
    "train_dataset = tf.data.Dataset.from_tensor_slices(train_dataset_path)\n",
    "train_dataset = train_dataset.map(read_dataset, num_parallel_calls=AUTOTUNE)\n",
    "train_dataset = train_dataset.map(image_preprocess, num_parallel_calls=AUTOTUNE)\n",
    "train_dataset = train_dataset.batch(batch_size)\n",
    "train_dataset = train_dataset.shuffle(len(train_dataset_path))\n",
    "train_dataset = train_dataset.repeat()"
   ]
  },
  {
   "cell_type": "code",
   "execution_count": 14,
   "metadata": {},
   "outputs": [],
   "source": [
    "test_dataset = tf.data.Dataset.from_tensor_slices(train_dataset_path)\n",
    "test_dataset = test_dataset.map(read_dataset, num_parallel_calls=AUTOTUNE)\n",
    "test_dataset = test_dataset.batch(batch_size)\n",
    "test_dataset = test_dataset.repeat()"
   ]
  },
  {
   "cell_type": "markdown",
   "metadata": {},
   "source": [
    "# Callbacks"
   ]
  },
  {
   "cell_type": "markdown",
   "metadata": {},
   "source": [
    "## TensorBoard"
   ]
  },
  {
   "cell_type": "code",
   "execution_count": 59,
   "metadata": {},
   "outputs": [
    {
     "data": {
      "text/plain": [
       "'/Users/slidemorning/Slideworkspace/Github/tensorflow-2.0/logs/20201106-184441'"
      ]
     },
     "execution_count": 59,
     "metadata": {},
     "output_type": "execute_result"
    }
   ],
   "source": [
    "logdir = os.path.join(os.getcwd()+'/logs', datetime.now().strftime('%Y%m%d-%H%M%S'))\n",
    "logdir"
   ]
  },
  {
   "cell_type": "code",
   "execution_count": 60,
   "metadata": {},
   "outputs": [],
   "source": [
    "tensorboard = tf.keras.callbacks.TensorBoard(\n",
    "    log_dir=logdir,\n",
    "    write_graph=True,\n",
    "    write_images=True,\n",
    "    histogram_freq=1,\n",
    ")"
   ]
  },
  {
   "cell_type": "code",
   "execution_count": 61,
   "metadata": {},
   "outputs": [
    {
     "data": {
      "text/html": [
       "\n",
       "      <iframe id=\"tensorboard-frame-f6a67f98b6178836\" width=\"100%\" height=\"800\" frameborder=\"0\">\n",
       "      </iframe>\n",
       "      <script>\n",
       "        (function() {\n",
       "          const frame = document.getElementById(\"tensorboard-frame-f6a67f98b6178836\");\n",
       "          const url = new URL(\"/\", window.location);\n",
       "          url.port = 6011;\n",
       "          frame.src = url;\n",
       "        })();\n",
       "      </script>\n",
       "  "
      ],
      "text/plain": [
       "<IPython.core.display.HTML object>"
      ]
     },
     "metadata": {},
     "output_type": "display_data"
    }
   ],
   "source": [
    "%tensorboard --logdir=/Users/slidemorning/Slideworkspace/Github/tensorflow-2.0/logs/"
   ]
  },
  {
   "cell_type": "markdown",
   "metadata": {},
   "source": [
    "### Training"
   ]
  },
  {
   "cell_type": "code",
   "execution_count": 63,
   "metadata": {},
   "outputs": [
    {
     "name": "stdout",
     "output_type": "stream",
     "text": [
      "Epoch 1/10\n",
      "31/31 [==============================] - 3s 104ms/step - loss: 1.7894 - accuracy: 0.3254 - val_loss: 1.7401 - val_accuracy: 0.3901\n",
      "Epoch 2/10\n",
      "31/31 [==============================] - 4s 113ms/step - loss: 1.7401 - accuracy: 0.3388 - val_loss: 1.5645 - val_accuracy: 0.4446\n",
      "Epoch 3/10\n",
      "31/31 [==============================] - 4s 124ms/step - loss: 1.6592 - accuracy: 0.3915 - val_loss: 1.4807 - val_accuracy: 0.4738\n",
      "Epoch 4/10\n",
      "31/31 [==============================] - 4s 119ms/step - loss: 1.6516 - accuracy: 0.3967 - val_loss: 1.4932 - val_accuracy: 0.4748\n",
      "Epoch 5/10\n",
      "31/31 [==============================] - 4s 118ms/step - loss: 1.6771 - accuracy: 0.3957 - val_loss: 1.4486 - val_accuracy: 0.5050\n",
      "Epoch 6/10\n",
      "31/31 [==============================] - 3s 112ms/step - loss: 1.5230 - accuracy: 0.4525 - val_loss: 1.4514 - val_accuracy: 0.4587\n",
      "Epoch 7/10\n",
      "31/31 [==============================] - 3s 112ms/step - loss: 1.5387 - accuracy: 0.4113 - val_loss: 1.2784 - val_accuracy: 0.5282\n",
      "Epoch 8/10\n",
      "31/31 [==============================] - 4s 121ms/step - loss: 1.4751 - accuracy: 0.4682 - val_loss: 1.2515 - val_accuracy: 0.5504\n",
      "Epoch 9/10\n",
      "31/31 [==============================] - 4s 125ms/step - loss: 1.4335 - accuracy: 0.4731 - val_loss: 1.3082 - val_accuracy: 0.5423\n",
      "Epoch 10/10\n",
      "31/31 [==============================] - 4s 139ms/step - loss: 1.4040 - accuracy: 0.4731 - val_loss: 1.2068 - val_accuracy: 0.5454\n"
     ]
    },
    {
     "data": {
      "text/plain": [
       "<tensorflow.python.keras.callbacks.History at 0x7fcaa9345950>"
      ]
     },
     "execution_count": 63,
     "metadata": {},
     "output_type": "execute_result"
    }
   ],
   "source": [
    "model.fit_generator(\n",
    "    train_dataset,\n",
    "    steps_per_epoch=len(train_dataset_path) // batch_size,\n",
    "    validation_data=test_dataset,\n",
    "    validation_steps=len(test_dataset_path) // batch_size,\n",
    "    epochs=num_epochs,\n",
    "    callbacks=[tensorboard]\n",
    ")"
   ]
  },
  {
   "cell_type": "markdown",
   "metadata": {},
   "source": [
    "## Lambda"
   ]
  },
  {
   "cell_type": "code",
   "execution_count": null,
   "metadata": {},
   "outputs": [],
   "source": []
  }
 ],
 "metadata": {
  "kernelspec": {
   "display_name": "Python 3",
   "language": "python",
   "name": "python3"
  },
  "language_info": {
   "codemirror_mode": {
    "name": "ipython",
    "version": 3
   },
   "file_extension": ".py",
   "mimetype": "text/x-python",
   "name": "python",
   "nbconvert_exporter": "python",
   "pygments_lexer": "ipython3",
   "version": "3.7.7"
  }
 },
 "nbformat": 4,
 "nbformat_minor": 4
}
