{
 "cells": [
  {
   "cell_type": "code",
   "execution_count": 2,
   "metadata": {},
   "outputs": [],
   "source": [
    "import tensorflow as tf\n",
    "from tensorflow.keras import layers\n",
    "from tensorflow.keras import datasets"
   ]
  },
  {
   "cell_type": "code",
   "execution_count": 3,
   "metadata": {},
   "outputs": [],
   "source": [
    "# Load Data from MNIST\n",
    "(X_train, y_train), (X_test, y_test) = datasets.mnist.load_data()\n",
    "\n",
    "# Add Channel dimension\n",
    "X_train = X_train[..., tf.newaxis]\n",
    "X_test = X_test[..., tf.newaxis]\n",
    "\n",
    "# Data Normalization\n",
    "X_train, X_test = X_train/255., X_test/255."
   ]
  },
  {
   "cell_type": "code",
   "execution_count": 4,
   "metadata": {},
   "outputs": [],
   "source": [
    "inputs = layers.Input((28, 28, 1))\n",
    "l = layers.Conv2D(32, (3, 3), padding='SAME')(inputs)\n",
    "l = layers.Activation('relu')(l)\n",
    "l = layers.Conv2D(32, (3, 3), padding='SAME')(l)\n",
    "l = layers.Activation('relu')(l)\n",
    "l = layers.MaxPool2D(pool_size=(2, 2))(l)\n",
    "l = layers.Dropout(0.25)(l)\n",
    "\n",
    "l = layers.Conv2D(64, (3, 3), padding='SAME')(l)\n",
    "l = layers.Activation('relu')(l)\n",
    "l = layers.Conv2D(64, (3, 3), padding='SAME')(l)\n",
    "l = layers.Activation('relu')(l)\n",
    "l = layers.MaxPool2D(pool_size=(2, 2))(l)\n",
    "l = layers.Dropout(0.25)(l)\n",
    "\n",
    "l = layers.Flatten()(l)\n",
    "l = layers.Dense(512)(l)\n",
    "l = layers.Activation('relu')(l)\n",
    "l = layers.Dropout(0.25)(l)\n",
    "l = layers.Dense(10)(l)\n",
    "l = layers.Activation('softmax')(l)\n",
    "\n",
    "model = tf.keras.Model(inputs=inputs, outputs=l, name='cnn-v1')"
   ]
  },
  {
   "cell_type": "markdown",
   "metadata": {},
   "source": [
    "### tf.data"
   ]
  },
  {
   "cell_type": "code",
   "execution_count": 5,
   "metadata": {},
   "outputs": [],
   "source": [
    "# Generator\n",
    "train_ds = tf.data.Dataset.from_tensor_slices((X_train, y_train))\n",
    "train_ds = train_ds.shuffle(1000)\n",
    "train_ds = train_ds.batch(32)\n",
    "\n",
    "test_ds = tf.data.Dataset.from_tensor_slices((X_test, y_test))\n",
    "test_ds = test_ds.batch(32)"
   ]
  },
  {
   "cell_type": "markdown",
   "metadata": {},
   "source": [
    "#### next(iter({generator}))"
   ]
  },
  {
   "cell_type": "code",
   "execution_count": 6,
   "metadata": {},
   "outputs": [
    {
     "data": {
      "text/plain": [
       "(TensorShape([32, 28, 28, 1]), TensorShape([32]))"
      ]
     },
     "execution_count": 6,
     "metadata": {},
     "output_type": "execute_result"
    }
   ],
   "source": [
    "image, label = next(iter(train_ds))\n",
    "image.shape, label.shape"
   ]
  },
  {
   "cell_type": "code",
   "execution_count": 7,
   "metadata": {},
   "outputs": [],
   "source": [
    "import matplotlib.pyplot as plt\n",
    "%matplotlib inline"
   ]
  },
  {
   "cell_type": "markdown",
   "metadata": {},
   "source": [
    "#### train_ds.take()"
   ]
  },
  {
   "cell_type": "code",
   "execution_count": 8,
   "metadata": {},
   "outputs": [
    {
     "data": {
      "image/png": "[encoded data removed]",
      "text/plain": [
       "<Figure size 432x288 with 1 Axes>"
      ]
     },
     "metadata": {
      "needs_background": "light"
     },
     "output_type": "display_data"
    },
    {
     "data": {
      "image/png": "[encoded data removed]",
      "text/plain": [
       "<Figure size 432x288 with 1 Axes>"
      ]
     },
     "metadata": {
      "needs_background": "light"
     },
     "output_type": "display_data"
    },
    {
     "data": {
      "image/png": "[encoded data removed]",
      "text/plain": [
       "<Figure size 432x288 with 1 Axes>"
      ]
     },
     "metadata": {
      "needs_background": "light"
     },
     "output_type": "display_data"
    }
   ],
   "source": [
    "for image, label in train_ds.take(3):\n",
    "    plt.title(str(label[0]))\n",
    "    plt.imshow(image[0, :, :, 0], 'gray')\n",
    "    plt.show()"
   ]
  },
  {
   "cell_type": "markdown",
   "metadata": {},
   "source": [
    "### Training (Keras)"
   ]
  },
  {
   "cell_type": "markdown",
   "metadata": {},
   "source": [
    "```Python3\n",
    "model.compile()\n",
    "mode.fit()\n",
    "```"
   ]
  },
  {
   "cell_type": "markdown",
   "metadata": {},
   "source": [
    "### Optimization\n",
    "* Loss Function\n",
    "* Optimizer"
   ]
  },
  {
   "cell_type": "markdown",
   "metadata": {},
   "source": [
    "#### Set Object"
   ]
  },
  {
   "cell_type": "code",
   "execution_count": 9,
   "metadata": {},
   "outputs": [],
   "source": [
    "loss_function = tf.keras.losses.SparseCategoricalCrossentropy()\n",
    "optimizer = tf.keras.optimizers.Adam()"
   ]
  },
  {
   "cell_type": "code",
   "execution_count": 10,
   "metadata": {},
   "outputs": [],
   "source": [
    "train_loss = tf.keras.metrics.Mean(name='train_loss')\n",
    "train_accuracy = tf.keras.metrics.SparseCategoricalAccuracy(name='train_accuracy')\n",
    "\n",
    "test_loss = tf.keras.metrics.Mean(name='test_loss')\n",
    "test_accuracy = tf.keras.metrics.SparseCategoricalAccuracy(name='test_accuracy')"
   ]
  },
  {
   "cell_type": "markdown",
   "metadata": {},
   "source": [
    "### Training (Expert)\n",
    "* @tf.function : 기존 session 열었던 것 처럼 바로 작동하는것이 아니고, 그래프만 만든뒤 학습이 시작되면 돌아가도록 함. -> 속도향상"
   ]
  },
  {
   "cell_type": "code",
   "execution_count": 11,
   "metadata": {},
   "outputs": [],
   "source": [
    "@tf.function\n",
    "def train_step(images, labels):\n",
    "    with tf.GradientTape() as tape:\n",
    "        predictions = model(images)\n",
    "        loss = loss_function(labels, predictions)\n",
    "    gradients = tape.gradient(loss, model.trainable_variables)\n",
    "    optimizer.apply_gradients(zip(gradients, model.trainable_variables))\n",
    "    \n",
    "    train_loss(loss)\n",
    "    train_accuracy(labels, predictions)"
   ]
  },
  {
   "cell_type": "code",
   "execution_count": 12,
   "metadata": {},
   "outputs": [],
   "source": [
    "@tf.function\n",
    "def test_step(images, labels):\n",
    "    predictions = model(images)\n",
    "    t_loss = loss_function(labels, predictions)\n",
    "    \n",
    "    test_loss(t_loss)\n",
    "    test_accuracy(labels, predictions)"
   ]
  },
  {
   "cell_type": "markdown",
   "metadata": {},
   "source": [
    "### Training"
   ]
  },
  {
   "cell_type": "code",
   "execution_count": 14,
   "metadata": {
    "scrolled": true
   },
   "outputs": [
    {
     "name": "stdout",
     "output_type": "stream",
     "text": [
      "Epoch 1, Loss:0.06747666746377945, Accuracy:97.94499969482422, Test Loss:0.035819798707962036, Test Accuracy98.86000061035156\n",
      "Epoch 2, Loss:0.052963290363550186, Accuracy:98.38777923583984, Test Loss:0.03281724825501442, Test Accuracy98.94000244140625\n"
     ]
    }
   ],
   "source": [
    "for epoch in range(2):\n",
    "    for images, labels in train_ds:\n",
    "        train_step(images, labels)\n",
    "        \n",
    "    for test_images, test_labels in test_ds:\n",
    "        test_step(test_images, test_labels)\n",
    "    \n",
    "    template = 'Epoch {}, Loss:{}, Accuracy:{}, Test Loss:{}, Test Accuracy{}'\n",
    "    \n",
    "    print(template.format(epoch+1,\n",
    "                         train_loss.result(),\n",
    "                         train_accuracy.result() * 100,\n",
    "                         test_loss.result(),\n",
    "                         test_accuracy.result() * 100))"
   ]
  },
  {
   "cell_type": "markdown",
   "metadata": {},
   "source": [
    "### Evaluating (Keras)"
   ]
  },
  {
   "cell_type": "markdown",
   "metadata": {},
   "source": [
    "#### Training(Keras)"
   ]
  },
  {
   "cell_type": "code",
   "execution_count": 16,
   "metadata": {},
   "outputs": [
    {
     "name": "stdout",
     "output_type": "stream",
     "text": [
      "938/938 [==============================] - 101s 108ms/step - loss: 0.0245 - sparse_categorical_accuracy: 0.9920\n"
     ]
    }
   ],
   "source": [
    "num_epochs = 1\n",
    "batch_size = 64\n",
    "model.compile(optimizer=tf.keras.optimizers.Adam(),\n",
    "             loss=tf.keras.losses.SparseCategoricalCrossentropy(),\n",
    "             metrics=tf.keras.metrics.SparseCategoricalAccuracy())\n",
    "hist = model.fit(X_train, y_train,\n",
    "                batch_size=batch_size,\n",
    "                shuffle=True)"
   ]
  },
  {
   "cell_type": "code",
   "execution_count": 17,
   "metadata": {},
   "outputs": [
    {
     "data": {
      "text/plain": [
       "{'loss': [0.024488676339387894],\n",
       " 'sparse_categorical_accuracy': [0.9920333623886108]}"
      ]
     },
     "execution_count": 17,
     "metadata": {},
     "output_type": "execute_result"
    }
   ],
   "source": [
    "hist.history"
   ]
  },
  {
   "cell_type": "markdown",
   "metadata": {},
   "source": [
    "#### Evaluating\n",
    "* Evaluate : {model}.evaluate()"
   ]
  },
  {
   "cell_type": "code",
   "execution_count": 18,
   "metadata": {},
   "outputs": [
    {
     "name": "stdout",
     "output_type": "stream",
     "text": [
      "157/157 [==============================] - 3s 20ms/step - loss: 0.0188 - sparse_categorical_accuracy: 0.9933\n"
     ]
    },
    {
     "data": {
      "text/plain": [
       "[0.01877576671540737, 0.9933000206947327]"
      ]
     },
     "execution_count": 18,
     "metadata": {},
     "output_type": "execute_result"
    }
   ],
   "source": [
    "model.evaluate(X_test, y_test, batch_size=batch_size)"
   ]
  },
  {
   "cell_type": "markdown",
   "metadata": {},
   "source": [
    "#### 결과 확인\n",
    "* Input으로 들어갈 이미지 데이터 확인"
   ]
  },
  {
   "cell_type": "code",
   "execution_count": 19,
   "metadata": {},
   "outputs": [
    {
     "data": {
      "text/plain": [
       "(28, 28)"
      ]
     },
     "execution_count": 19,
     "metadata": {},
     "output_type": "execute_result"
    }
   ],
   "source": [
    "test_image = X_test[0, :, :, 0]\n",
    "test_image.shape"
   ]
  },
  {
   "cell_type": "code",
   "execution_count": 20,
   "metadata": {},
   "outputs": [
    {
     "data": {
      "image/png": "[encoded data removed]",
      "text/plain": [
       "<Figure size 432x288 with 1 Axes>"
      ]
     },
     "metadata": {
      "needs_background": "light"
     },
     "output_type": "display_data"
    }
   ],
   "source": [
    "plt.title(y_test[0])\n",
    "plt.imshow(test_image, 'gray')\n",
    "plt.show()"
   ]
  },
  {
   "cell_type": "markdown",
   "metadata": {},
   "source": [
    "#### prediction\n",
    "* model에 input data로 확인할 이미지 데이터 넣기\n",
    "* {model}.predict()"
   ]
  },
  {
   "cell_type": "code",
   "execution_count": 23,
   "metadata": {},
   "outputs": [
    {
     "name": "stdout",
     "output_type": "stream",
     "text": [
      "(1, 10)\n",
      "[[1.11937566e-13 3.32547856e-09 4.16665547e-09 7.28154559e-09\n",
      "  8.00550338e-12 8.60146698e-13 8.12039171e-17 1.00000000e+00\n",
      "  2.18023447e-11 5.16602894e-09]]\n"
     ]
    }
   ],
   "source": [
    "test_image = test_image.reshape(1, 28, 28, 1)\n",
    "pred = model.predict(test_image)\n",
    "print(pred.shape)\n",
    "print(pred) # softmax value"
   ]
  },
  {
   "cell_type": "markdown",
   "metadata": {},
   "source": [
    "#### np.argmax()"
   ]
  },
  {
   "cell_type": "code",
   "execution_count": 25,
   "metadata": {},
   "outputs": [
    {
     "data": {
      "text/plain": [
       "7"
      ]
     },
     "execution_count": 25,
     "metadata": {},
     "output_type": "execute_result"
    }
   ],
   "source": [
    "import numpy as np\n",
    "np.argmax(pred)"
   ]
  },
  {
   "cell_type": "markdown",
   "metadata": {},
   "source": [
    "#### Test Batch\n",
    "* Batch로 Test 하기"
   ]
  },
  {
   "cell_type": "code",
   "execution_count": 26,
   "metadata": {},
   "outputs": [
    {
     "data": {
      "text/plain": [
       "(32, 28, 28, 1)"
      ]
     },
     "execution_count": 26,
     "metadata": {},
     "output_type": "execute_result"
    }
   ],
   "source": [
    "test_batch = X_test[:32]\n",
    "test_batch.shape"
   ]
  },
  {
   "cell_type": "markdown",
   "metadata": {},
   "source": [
    "* Batch Test Dataset을 모델에 넣기"
   ]
  },
  {
   "cell_type": "code",
   "execution_count": 27,
   "metadata": {},
   "outputs": [
    {
     "data": {
      "text/plain": [
       "(32, 10)"
      ]
     },
     "execution_count": 27,
     "metadata": {},
     "output_type": "execute_result"
    }
   ],
   "source": [
    "preds = model.predict(test_batch)\n",
    "preds.shape"
   ]
  },
  {
   "cell_type": "code",
   "execution_count": 28,
   "metadata": {},
   "outputs": [
    {
     "data": {
      "text/plain": [
       "array([[1.11937993e-13, 3.32548500e-09, 4.16667145e-09, 7.28155980e-09,\n",
       "        8.00550338e-12, 8.60145071e-13, 8.12042281e-17, 1.00000000e+00,\n",
       "        2.18023447e-11, 5.16603915e-09],\n",
       "       [1.32491448e-10, 3.64268643e-10, 1.00000000e+00, 7.44043282e-12,\n",
       "        1.31505896e-12, 3.81086730e-14, 1.44354431e-08, 1.27563141e-10,\n",
       "        2.42603732e-11, 1.37877470e-12],\n",
       "       [7.59068186e-09, 9.99997973e-01, 8.66603589e-09, 7.41393447e-10,\n",
       "        1.13752833e-07, 1.64849183e-07, 1.29517801e-07, 1.24670669e-06,\n",
       "        4.29924313e-07, 1.46760852e-08],\n",
       "       [9.99996781e-01, 7.74223307e-12, 7.97813982e-10, 1.03486060e-10,\n",
       "        5.39901804e-11, 6.40648734e-09, 3.08125800e-06, 2.86340440e-09,\n",
       "        1.77074355e-09, 8.22482562e-08],\n",
       "       [1.27646615e-10, 1.11562026e-09, 2.72778046e-12, 1.73138188e-11,\n",
       "        9.99790251e-01, 2.36512060e-10, 5.61449665e-10, 4.46553960e-10,\n",
       "        8.40625070e-10, 2.09763064e-04],\n",
       "       [1.54233049e-09, 9.99999166e-01, 1.04523046e-09, 5.17079088e-11,\n",
       "        1.47691281e-07, 4.10995638e-09, 7.70136399e-09, 5.74127910e-07,\n",
       "        7.24784428e-08, 1.72741483e-08],\n",
       "       [7.85167330e-12, 1.10785993e-06, 1.01016617e-09, 1.99193717e-10,\n",
       "        9.99461353e-01, 3.82371894e-08, 1.32422739e-08, 4.20395168e-07,\n",
       "        5.16603002e-04, 2.05066826e-05],\n",
       "       [4.01497689e-11, 1.73004847e-10, 1.04794184e-09, 3.03450314e-08,\n",
       "        1.97664440e-06, 1.01474784e-08, 5.37819463e-13, 2.46046761e-09,\n",
       "        1.87597109e-07, 9.99997735e-01],\n",
       "       [1.73034969e-05, 1.41039408e-07, 3.07902970e-09, 9.20542732e-07,\n",
       "        2.86004914e-04, 9.29422319e-01, 4.79723588e-02, 8.63632863e-08,\n",
       "        2.00342759e-02, 2.26654555e-03],\n",
       "       [4.49308722e-13, 6.48031195e-12, 4.95282418e-13, 8.48894233e-10,\n",
       "        9.08133588e-05, 1.88765795e-10, 9.10056264e-15, 3.75977827e-08,\n",
       "        3.29632371e-07, 9.99908805e-01],\n",
       "       [1.00000000e+00, 2.60954436e-14, 5.55672486e-09, 9.31879899e-13,\n",
       "        8.79070647e-14, 1.67144846e-12, 7.51950668e-10, 4.40380822e-11,\n",
       "        1.51213833e-11, 7.74814968e-09],\n",
       "       [1.63467163e-07, 9.44333674e-12, 9.58447644e-12, 1.01141480e-12,\n",
       "        3.48621992e-10, 9.49681112e-10, 9.99999881e-01, 1.56532041e-13,\n",
       "        6.34678932e-09, 1.68497771e-13],\n",
       "       [2.72039127e-11, 6.87201034e-12, 9.25361697e-12, 3.27471272e-09,\n",
       "        6.72692404e-05, 4.34179892e-09, 5.15933867e-13, 1.62969496e-08,\n",
       "        1.00938159e-07, 9.99932528e-01],\n",
       "       [9.99999881e-01, 3.01744263e-12, 7.00334102e-09, 1.14454574e-11,\n",
       "        5.08069324e-12, 5.11698350e-10, 1.27336875e-07, 1.02485243e-09,\n",
       "        1.79983872e-09, 3.47562690e-08],\n",
       "       [5.13808907e-09, 9.99997616e-01, 2.94837355e-09, 2.40738188e-07,\n",
       "        5.19778837e-07, 7.39615416e-07, 1.04163568e-07, 3.14306561e-07,\n",
       "        4.51916492e-07, 3.48200899e-08],\n",
       "       [6.37707335e-13, 1.79303399e-08, 1.60876572e-11, 5.28545759e-04,\n",
       "        3.48955240e-13, 9.99471247e-01, 2.37669706e-09, 3.75033515e-08,\n",
       "        2.14280178e-07, 5.84807980e-10],\n",
       "       [6.32761399e-10, 2.48533805e-13, 1.29249250e-11, 5.04648878e-10,\n",
       "        4.06397294e-06, 4.33579062e-10, 3.92329778e-13, 5.38216938e-08,\n",
       "        1.16489520e-08, 9.99995828e-01],\n",
       "       [7.19903520e-12, 2.77677148e-09, 6.07776496e-09, 1.99824619e-08,\n",
       "        1.10584451e-10, 1.90853080e-11, 1.20141341e-14, 9.99999881e-01,\n",
       "        4.99655872e-11, 1.44337974e-07],\n",
       "       [2.78140355e-09, 1.82879987e-08, 2.47937396e-06, 9.64162350e-01,\n",
       "        2.21579366e-10, 3.57436351e-02, 1.33712144e-08, 1.30803312e-06,\n",
       "        8.89991570e-05, 1.27432520e-06],\n",
       "       [1.82511494e-14, 1.58798645e-08, 2.20555536e-11, 4.01107229e-12,\n",
       "        9.99999881e-01, 5.74089561e-12, 3.83911913e-12, 7.67390507e-09,\n",
       "        2.17879586e-11, 7.20082127e-08],\n",
       "       [1.62470837e-08, 1.09741950e-05, 1.08474625e-08, 1.77838763e-06,\n",
       "        6.45186461e-04, 1.12761904e-06, 2.58460864e-10, 4.45316633e-04,\n",
       "        3.15927832e-06, 9.98892367e-01],\n",
       "       [3.44622109e-10, 1.77912817e-12, 3.42725371e-12, 1.63106356e-12,\n",
       "        3.83512611e-10, 3.72201129e-07, 9.99999642e-01, 1.08164574e-14,\n",
       "        8.62270433e-09, 4.73899457e-13],\n",
       "       [4.24560547e-08, 2.88573527e-12, 2.17056448e-13, 1.92945784e-13,\n",
       "        1.34343354e-08, 1.13885207e-10, 1.00000000e+00, 1.93845835e-13,\n",
       "        2.82074586e-10, 5.85044209e-12],\n",
       "       [3.41072195e-13, 2.94930828e-13, 2.22728880e-15, 2.75777197e-08,\n",
       "        5.08505651e-12, 1.00000000e+00, 3.77326659e-09, 1.33941133e-12,\n",
       "        6.81563139e-10, 3.70559121e-08],\n",
       "       [2.54991556e-10, 1.14441143e-07, 4.98774577e-09, 9.47262158e-10,\n",
       "        9.99444783e-01, 2.46578113e-09, 1.74831456e-08, 6.79434038e-07,\n",
       "        1.86178859e-08, 5.54391474e-04],\n",
       "       [9.99999404e-01, 9.67954276e-12, 8.72674022e-09, 8.60531091e-11,\n",
       "        1.02889593e-10, 4.80113796e-11, 1.86054550e-08, 1.90810234e-09,\n",
       "        9.81593029e-09, 5.75885565e-07],\n",
       "       [6.11679312e-08, 1.91036179e-07, 6.60401440e-07, 2.57525767e-06,\n",
       "        1.88957339e-09, 4.46787496e-08, 1.31592940e-11, 9.99991655e-01,\n",
       "        4.74877426e-09, 4.71276144e-06],\n",
       "       [5.76756592e-16, 7.24609817e-11, 5.68652113e-14, 4.44946136e-14,\n",
       "        1.00000000e+00, 1.16484437e-12, 1.34617469e-13, 3.17641052e-12,\n",
       "        8.12888493e-13, 7.47049089e-09],\n",
       "       [9.99931574e-01, 4.44726789e-09, 6.38959027e-05, 2.56756834e-07,\n",
       "        1.46268420e-09, 3.85221384e-08, 7.41022603e-08, 2.82814335e-06,\n",
       "        4.31666450e-07, 9.11883376e-07],\n",
       "       [2.43113796e-09, 9.99970555e-01, 6.46278693e-07, 7.29823569e-06,\n",
       "        7.69464350e-06, 3.01324690e-07, 2.51177781e-08, 8.91558830e-06,\n",
       "        4.33858122e-06, 1.51369832e-07],\n",
       "       [3.78506888e-19, 7.92245230e-14, 4.97861945e-14, 1.00000000e+00,\n",
       "        1.42823652e-17, 7.30106753e-10, 8.81806131e-18, 2.42144221e-11,\n",
       "        4.62783769e-14, 5.83445098e-12],\n",
       "       [1.12714558e-08, 9.99983430e-01, 3.61529580e-08, 1.64246323e-08,\n",
       "        1.07014357e-05, 1.62969314e-07, 2.82424431e-08, 3.55642328e-06,\n",
       "        1.62734739e-06, 5.45192904e-07]], dtype=float32)"
      ]
     },
     "execution_count": 28,
     "metadata": {},
     "output_type": "execute_result"
    }
   ],
   "source": [
    "preds"
   ]
  },
  {
   "cell_type": "markdown",
   "metadata": {},
   "source": [
    "#### np.argmax (batch)"
   ]
  },
  {
   "cell_type": "code",
   "execution_count": 30,
   "metadata": {},
   "outputs": [
    {
     "data": {
      "text/plain": [
       "(32,)"
      ]
     },
     "execution_count": 30,
     "metadata": {},
     "output_type": "execute_result"
    }
   ],
   "source": [
    "np.argmax(preds, -1).shape"
   ]
  },
  {
   "cell_type": "code",
   "execution_count": 31,
   "metadata": {},
   "outputs": [
    {
     "data": {
      "text/plain": [
       "array([7, 2, 1, 0, 4, 1, 4, 9, 5, 9, 0, 6, 9, 0, 1, 5, 9, 7, 3, 4, 9, 6,\n",
       "       6, 5, 4, 0, 7, 4, 0, 1, 3, 1])"
      ]
     },
     "execution_count": 31,
     "metadata": {},
     "output_type": "execute_result"
    }
   ],
   "source": [
    "np.argmax(preds, -1)"
   ]
  },
  {
   "cell_type": "code",
   "execution_count": 32,
   "metadata": {},
   "outputs": [
    {
     "data": {
      "text/plain": [
       "array([7, 2, 1, 0, 4, 1, 4, 9, 5, 9, 0, 6, 9, 0, 1, 5, 9, 7, 3, 4, 9, 6,\n",
       "       6, 5, 4, 0, 7, 4, 0, 1, 3, 1], dtype=uint8)"
      ]
     },
     "execution_count": 32,
     "metadata": {},
     "output_type": "execute_result"
    }
   ],
   "source": [
    "y_test[0:32]"
   ]
  },
  {
   "cell_type": "code",
   "execution_count": null,
   "metadata": {},
   "outputs": [],
   "source": []
  }
 ],
 "metadata": {
  "kernelspec": {
   "display_name": "Python 3",
   "language": "python",
   "name": "python3"
  },
  "language_info": {
   "codemirror_mode": {
    "name": "ipython",
    "version": 3
   },
   "file_extension": ".py",
   "mimetype": "text/x-python",
   "name": "python",
   "nbconvert_exporter": "python",
   "pygments_lexer": "ipython3",
   "version": "3.7.7"
  }
 },
 "nbformat": 4,
 "nbformat_minor": 4
}
