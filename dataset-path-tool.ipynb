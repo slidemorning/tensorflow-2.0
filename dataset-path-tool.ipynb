{
 "cells": [
  {
   "cell_type": "code",
   "execution_count": 1,
   "metadata": {},
   "outputs": [],
   "source": [
    "import os\n",
    "import numpy as np\n",
    "import tensorflow as tf\n",
    "import matplotlib.pyplot as plt\n",
    "import glob\n",
    "from PIL import Image\n",
    "%matplotlib inline"
   ]
  },
  {
   "cell_type": "markdown",
   "metadata": {},
   "source": [
    "### os\n",
    "* os.getcwd()\n",
    "* os.listdir()"
   ]
  },
  {
   "cell_type": "code",
   "execution_count": 6,
   "metadata": {},
   "outputs": [
    {
     "data": {
      "text/plain": [
       "'/Users/slidemorning/Slideworkspace/Github/tensorflow-2.0'"
      ]
     },
     "execution_count": 6,
     "metadata": {},
     "output_type": "execute_result"
    }
   ],
   "source": [
    "os.getcwd()"
   ]
  },
  {
   "cell_type": "code",
   "execution_count": 7,
   "metadata": {
    "scrolled": true
   },
   "outputs": [
    {
     "data": {
      "text/plain": [
       "['16585.png',\n",
       " '24537.png',\n",
       " '25629.png',\n",
       " '20751.png',\n",
       " '34730.png',\n",
       " '15926.png',\n",
       " '22152.png',\n",
       " '35348.png',\n",
       " '22634.png',\n",
       " '6819.png',\n",
       " '32427.png',\n",
       " '24245.png',\n",
       " '33739.png',\n",
       " '44599.png',\n",
       " '12907.png',\n",
       " '38644.png',\n",
       " '28457.png',\n",
       " '40099.png',\n",
       " '49903.png',\n",
       " '26308.png',\n",
       " '28325.png',\n",
       " '29985.png',\n",
       " '31112.png',\n",
       " '25167.png',\n",
       " '1179.png',\n",
       " '46371.png',\n",
       " '9257.png',\n",
       " '10645.png',\n",
       " '18219.png',\n",
       " '4773.png',\n",
       " '56176.png',\n",
       " '19649.png',\n",
       " '55457.png',\n",
       " '41350.png',\n",
       " '48412.png',\n",
       " '54985.png',\n",
       " '18543.png',\n",
       " '38693.png',\n",
       " '29211.png',\n",
       " '36331.png',\n",
       " '22344.png',\n",
       " '43976.png',\n",
       " '7911.png',\n",
       " '41807.png',\n",
       " '16787.png',\n",
       " '23728.png',\n",
       " '7905.png',\n",
       " '32625.png',\n",
       " '22436.png',\n",
       " '13833.png',\n",
       " '57917.png',\n",
       " '29205.png',\n",
       " '22378.png',\n",
       " '52847.png',\n",
       " '27200.png',\n",
       " '39758.png',\n",
       " '38446.png',\n",
       " '88.png',\n",
       " '55682.png',\n",
       " '9914.png',\n",
       " '31310.png',\n",
       " '5690.png',\n",
       " '41191.png',\n",
       " '31476.png',\n",
       " '46826.png',\n",
       " '35823.png',\n",
       " '4565.png',\n",
       " '48638.png',\n",
       " '4203.png',\n",
       " '14153.png',\n",
       " '34283.png',\n",
       " '9733.png',\n",
       " '6400.png',\n",
       " '63.png',\n",
       " '37946.png',\n",
       " '20584.png',\n",
       " '2100.png',\n",
       " '9055.png',\n",
       " '48604.png',\n",
       " '7050.png',\n",
       " '41620.png',\n",
       " '17466.png',\n",
       " '41634.png',\n",
       " '49268.png',\n",
       " '2882.png',\n",
       " '48176.png',\n",
       " '11003.png',\n",
       " '57730.png',\n",
       " '17314.png',\n",
       " '35994.png',\n",
       " '36537.png',\n",
       " '23884.png',\n",
       " '22224.png',\n",
       " '36251.png',\n",
       " '59696.png',\n",
       " '1596.png',\n",
       " '47480.png',\n",
       " '57693.png',\n",
       " '5096.png',\n",
       " '16817.png',\n",
       " '9874.png',\n",
       " '53387.png',\n",
       " '20369.png',\n",
       " '5082.png',\n",
       " '16803.png',\n",
       " '2935.png',\n",
       " '31502.png',\n",
       " '46952.png',\n",
       " '11639.png',\n",
       " '26095.png',\n",
       " '46007.png',\n",
       " '943.png',\n",
       " '12456.png',\n",
       " '42275.png',\n",
       " '957.png',\n",
       " '46775.png',\n",
       " '12324.png',\n",
       " '54371.png',\n",
       " '24696.png',\n",
       " '35943.png',\n",
       " '38297.png',\n",
       " '11605.png',\n",
       " '57650.png',\n",
       " '52728.png',\n",
       " '55721.png',\n",
       " '53350.png',\n",
       " '16618.png',\n",
       " '26903.png',\n",
       " '39823.png',\n",
       " '53344.png',\n",
       " '15311.png',\n",
       " '43631.png',\n",
       " '7130.png',\n",
       " '24872.png',\n",
       " '51235.png',\n",
       " '30807.png',\n",
       " '10080.png',\n",
       " '13589.png',\n",
       " '6979.png',\n",
       " '32221.png',\n",
       " '20625.png',\n",
       " '36047.png',\n",
       " '58952.png',\n",
       " '39360.png',\n",
       " '17923.png',\n",
       " '27638.png',\n",
       " '33665.png',\n",
       " '57491.png',\n",
       " '38042.png',\n",
       " '10916.png',\n",
       " '47696.png',\n",
       " '21513.png',\n",
       " '3829.png',\n",
       " '54832.png',\n",
       " '53185.png',\n",
       " '9451.png',\n",
       " '42063.png',\n",
       " '16354.png',\n",
       " '36084.png',\n",
       " '24480.png',\n",
       " '13238.png',\n",
       " '25952.png',\n",
       " '14557.png',\n",
       " '4607.png',\n",
       " '36090.png',\n",
       " '59457.png',\n",
       " '59331.png',\n",
       " '17738.png',\n",
       " '38903.png',\n",
       " '59319.png',\n",
       " '2538.png',\n",
       " '41556.png',\n",
       " '11361.png',\n",
       " '40648.png',\n",
       " '28286.png',\n",
       " '20816.png',\n",
       " '5525.png',\n",
       " '55251.png',\n",
       " '45042.png',\n",
       " '15675.png',\n",
       " '54629.png',\n",
       " '48200.png',\n",
       " '3632.png',\n",
       " '8000.png',\n",
       " '1742.png',\n",
       " '50328.png',\n",
       " '58012.png',\n",
       " '57321.png',\n",
       " '9478.png',\n",
       " '6987.png',\n",
       " '40649.png',\n",
       " '2539.png',\n",
       " '41557.png',\n",
       " '29199.png',\n",
       " '13211.png',\n",
       " '19072.png',\n",
       " '15648.png',\n",
       " '9322.png',\n",
       " '25953.png',\n",
       " '15890.png',\n",
       " '24495.png',\n",
       " '8982.png',\n",
       " '1018.png',\n",
       " '19714.png',\n",
       " '27822.png',\n",
       " '6763.png',\n",
       " '33843.png',\n",
       " '44413.png',\n",
       " '54600.png',\n",
       " '8028.png',\n",
       " '55278.png',\n",
       " '46562.png',\n",
       " '16355.png',\n",
       " '49889.png',\n",
       " '56942.png',\n",
       " '38043.png',\n",
       " '23305.png',\n",
       " '33670.png',\n",
       " '54833.png',\n",
       " '21260.png',\n",
       " '8969.png',\n",
       " '12872.png',\n",
       " '21506.png',\n",
       " '38057.png',\n",
       " '229.png',\n",
       " '26241.png',\n",
       " '29614.png',\n",
       " '36734.png',\n",
       " '39407.png',\n",
       " '16396.png',\n",
       " '47867.png',\n",
       " '16619.png',\n",
       " '41999.png',\n",
       " '57645.png',\n",
       " '46748.png',\n",
       " '41027.png',\n",
       " '13013.png',\n",
       " '45255.png',\n",
       " '43624.png',\n",
       " '19258.png',\n",
       " '51546.png',\n",
       " '47324.png',\n",
       " '11162.png',\n",
       " '10254.png',\n",
       " '32793.png',\n",
       " '12325.png',\n",
       " '59898.png',\n",
       " '56573.png',\n",
       " '6207.png',\n",
       " '12457.png',\n",
       " '10240.png',\n",
       " '39639.png',\n",
       " '27407.png',\n",
       " '5083.png',\n",
       " '43195.png',\n",
       " '25576.png',\n",
       " '57686.png',\n",
       " '46947.png',\n",
       " '5929.png',\n",
       " '23113.png',\n",
       " '7858.png',\n",
       " '32778.png',\n",
       " '4389.png',\n",
       " '51585.png',\n",
       " '22225.png',\n",
       " '32036.png',\n",
       " '24640.png',\n",
       " '29364.png',\n",
       " '26731.png',\n",
       " '10283.png',\n",
       " '9691.png',\n",
       " '23891.png',\n",
       " '55907.png',\n",
       " '41635.png',\n",
       " '39956.png',\n",
       " '58402.png',\n",
       " '52885.png',\n",
       " '15516.png',\n",
       " '24913.png',\n",
       " '46628.png',\n",
       " '5646.png',\n",
       " '2897.png',\n",
       " '5120.png',\n",
       " '38484.png',\n",
       " '1346.png',\n",
       " '4216.png',\n",
       " '46166.png',\n",
       " '5108.png',\n",
       " '41609.png',\n",
       " '24085.png',\n",
       " '34296.png',\n",
       " '43778.png',\n",
       " '6367.png',\n",
       " '2101.png',\n",
       " '49533.png',\n",
       " '11758.png',\n",
       " '20591.png',\n",
       " '53219.png',\n",
       " '23926.png',\n",
       " '26686.png',\n",
       " '37953.png',\n",
       " '10334.png',\n",
       " '42499.png',\n",
       " '36318.png',\n",
       " '38335.png',\n",
       " '31463.png',\n",
       " '23067.png',\n",
       " '33512.png',\n",
       " '27567.png',\n",
       " '2854.png',\n",
       " '639.png',\n",
       " '29562.png',\n",
       " '21658.png',\n",
       " '57916.png',\n",
       " '43963.png',\n",
       " '9083.png',\n",
       " '35639.png',\n",
       " '11957.png',\n",
       " '26645.png',\n",
       " '41806.png',\n",
       " '13826.png',\n",
       " '55873.png',\n",
       " '13371.png',\n",
       " '42658.png',\n",
       " '7247.png',\n",
       " '15700.png',\n",
       " '3021.png',\n",
       " '47046.png',\n",
       " '8612.png',\n",
       " '53027.png',\n",
       " '38686.png',\n",
       " '57241.png',\n",
       " '3035.png',\n",
       " '56639.png',\n",
       " '42664.png',\n",
       " '32383.png',\n",
       " '25199.png',\n",
       " '33923.png',\n",
       " '9530.png',\n",
       " '6603.png',\n",
       " '59244.png',\n",
       " '51618.png',\n",
       " '56163.png',\n",
       " '17881.png',\n",
       " '52305.png',\n",
       " '9524.png',\n",
       " '54012.png',\n",
       " '16221.png',\n",
       " '59536.png',\n",
       " '55481.png',\n",
       " '8809.png',\n",
       " '25166.png',\n",
       " '38889.png',\n",
       " '57296.png',\n",
       " '18581.png',\n",
       " '21314.png',\n",
       " '28456.png',\n",
       " '44598.png',\n",
       " '38123.png',\n",
       " '5487.png',\n",
       " '31661.png',\n",
       " '34731.png',\n",
       " '34057.png',\n",
       " '14393.png',\n",
       " '22637.png',\n",
       " '30555.png',\n",
       " '9297.png',\n",
       " '10849.png',\n",
       " '26323.png',\n",
       " '10691.png',\n",
       " '51815.png',\n",
       " '19845.png',\n",
       " '47087.png',\n",
       " '23273.png',\n",
       " '7286.png',\n",
       " '10861.png',\n",
       " '31677.png',\n",
       " '58819.png',\n",
       " '41384.png',\n",
       " '43593.png',\n",
       " '6832.png',\n",
       " '19689.png',\n",
       " '38874.png',\n",
       " '47078.png',\n",
       " '10120.png',\n",
       " '42100.png',\n",
       " '52313.png',\n",
       " '33921.png',\n",
       " '54004.png',\n",
       " '19104.png',\n",
       " '48439.png',\n",
       " '54010.png',\n",
       " '6615.png',\n",
       " '12723.png',\n",
       " '4002.png',\n",
       " '56161.png',\n",
       " '2473.png',\n",
       " '1152.png',\n",
       " '15064.png',\n",
       " '41353.png',\n",
       " '4994.png',\n",
       " '47722.png',\n",
       " '52449.png',\n",
       " '42896.png',\n",
       " '18232.png',\n",
       " '47736.png',\n",
       " '57525.png',\n",
       " '58170.png',\n",
       " '36871.png',\n",
       " '6629.png',\n",
       " '43236.png',\n",
       " '43961.png',\n",
       " '48834.png',\n",
       " '41810.png',\n",
       " '36440.png',\n",
       " '29560.png',\n",
       " '33538.png',\n",
       " '13830.png',\n",
       " '50909.png',\n",
       " '49280.png',\n",
       " '48808.png',\n",
       " '39029.png',\n",
       " '55681.png',\n",
       " '24078.png',\n",
       " '25366.png',\n",
       " '35175.png',\n",
       " '56388.png',\n",
       " '36468.png',\n",
       " '3590.png',\n",
       " '1387.png',\n",
       " '34519.png',\n",
       " '11969.png',\n",
       " '51395.png',\n",
       " '59911.png',\n",
       " '9056.png',\n",
       " '25399.png',\n",
       " '39968.png',\n",
       " '56377.png',\n",
       " '49243.png',\n",
       " '7709.png',\n",
       " '52105.png',\n",
       " '44029.png',\n",
       " '5888.png',\n",
       " '48613.png',\n",
       " '59078.png',\n",
       " '43020.png',\n",
       " '55656.png',\n",
       " '11014.png',\n",
       " '57041.png',\n",
       " '57727.png',\n",
       " '48607.png',\n",
       " '55130.png',\n",
       " '29414.png',\n",
       " '55911.png',\n",
       " '997.png',\n",
       " '9687.png',\n",
       " '32746.png',\n",
       " '39175.png',\n",
       " '59859.png',\n",
       " '26055.png',\n",
       " '59681.png',\n",
       " '37158.png',\n",
       " '34451.png',\n",
       " '14959.png',\n",
       " '3396.png',\n",
       " '14971.png',\n",
       " '51587.png',\n",
       " '27411.png',\n",
       " '9877.png',\n",
       " '25206.png',\n",
       " '33464.png',\n",
       " '33302.png',\n",
       " '52930.png',\n",
       " '14965.png',\n",
       " '28044.png',\n",
       " '20418.png',\n",
       " '10530.png',\n",
       " '3369.png',\n",
       " '44161.png',\n",
       " '34486.png',\n",
       " '7669.png',\n",
       " '54414.png',\n",
       " '17539.png',\n",
       " '46010.png',\n",
       " '4374.png',\n",
       " '10242.png',\n",
       " '56217.png',\n",
       " '42262.png',\n",
       " '22596.png',\n",
       " '32785.png',\n",
       " '24681.png',\n",
       " '18178.png',\n",
       " '40313.png',\n",
       " '13005.png',\n",
       " '21909.png',\n",
       " '11612.png',\n",
       " '46992.png',\n",
       " '41743.png',\n",
       " '13777.png',\n",
       " '53353.png',\n",
       " '58206.png',\n",
       " '5730.png',\n",
       " '58560.png',\n",
       " '7127.png',\n",
       " '9485.png',\n",
       " '32550.png',\n",
       " '31059.png',\n",
       " '20632.png',\n",
       " '59497.png',\n",
       " '39363.png',\n",
       " '24440.png',\n",
       " '34653.png',\n",
       " '49848.png',\n",
       " '56968.png',\n",
       " '10083.png',\n",
       " '22757.png',\n",
       " '40844.png',\n",
       " '57486.png',\n",
       " '56940.png',\n",
       " '38055.png',\n",
       " '30409.png',\n",
       " '56954.png',\n",
       " '1797.png',\n",
       " '35217.png',\n",
       " '40850.png',\n",
       " '30384.png',\n",
       " '27820.png',\n",
       " '42074.png',\n",
       " '44363.png',\n",
       " '10732.png',\n",
       " '46560.png',\n",
       " '17049.png',\n",
       " '43418.png',\n",
       " '44411.png',\n",
       " '9452.png',\n",
       " '5268.png',\n",
       " '38914.png',\n",
       " '58038.png',\n",
       " '6991.png',\n",
       " '12119.png',\n",
       " '55246.png',\n",
       " '7325.png',\n",
       " '15662.png',\n",
       " '8016.png',\n",
       " '3143.png',\n",
       " '20801.png',\n",
       " '57451.png',\n",
       " '47124.png',\n",
       " '15663.png',\n",
       " '25978.png',\n",
       " '55521.png',\n",
       " '38929.png',\n",
       " '51753.png',\n",
       " '10069.png',\n",
       " '1999.png',\n",
       " '8003.png',\n",
       " '55253.png',\n",
       " '13206.png',\n",
       " '20814.png',\n",
       " '7318.png',\n",
       " '1769.png',\n",
       " '17048.png',\n",
       " '30391.png',\n",
       " '56766.png',\n",
       " '1796.png',\n",
       " '31716.png',\n",
       " '38054.png',\n",
       " '19924.png',\n",
       " '25005.png',\n",
       " '33673.png',\n",
       " '37415.png',\n",
       " '19930.png',\n",
       " '56941.png',\n",
       " '10914.png',\n",
       " '3195.png',\n",
       " '45083.png',\n",
       " '216.png',\n",
       " '55290.png',\n",
       " '39376.png',\n",
       " '56969.png',\n",
       " '26256.png',\n",
       " '30434.png',\n",
       " '27148.png',\n",
       " '25987.png',\n",
       " '25039.png',\n",
       " '20141.png',\n",
       " '30352.png',\n",
       " '51960.png',\n",
       " '36737.png',\n",
       " '32237.png',\n",
       " '49685.png',\n",
       " '41756.png',\n",
       " '46039.png',\n",
       " '14019.png',\n",
       " '55045.png',\n",
       " '41030.png',\n",
       " '58575.png',\n",
       " '57120.png',\n",
       " '49336.png',\n",
       " '28904.png',\n",
       " '40312.png',\n",
       " '50101.png',\n",
       " '46763.png',\n",
       " '56570.png',\n",
       " '52716.png',\n",
       " '24858.png',\n",
       " '36290.png',\n",
       " '10531.png',\n",
       " '30187.png',\n",
       " '49322.png',\n",
       " '28910.png',\n",
       " '23845.png',\n",
       " '43169.png',\n",
       " '22583.png',\n",
       " '44606.png',\n",
       " '52064.png',\n",
       " '42277.png',\n",
       " '33465.png',\n",
       " '31272.png',\n",
       " '41795.png',\n",
       " '46944.png',\n",
       " '47482.png',\n",
       " '32009.png',\n",
       " '23104.png',\n",
       " '57685.png',\n",
       " '23662.png',\n",
       " '39612.png',\n",
       " '12497.png',\n",
       " '35028.png',\n",
       " '28079.png',\n",
       " '59680.png',\n",
       " '11834.png',\n",
       " '26040.png',\n",
       " '35982.png',\n",
       " '39606.png',\n",
       " '21049.png',\n",
       " '20357.png',\n",
       " '54549.png',\n",
       " '7052.png',\n",
       " '13164.png',\n",
       " '1423.png',\n",
       " '49518.png',\n",
       " '30965.png',\n",
       " '10479.png',\n",
       " '48612.png',\n",
       " '14179.png',\n",
       " '32800.png',\n",
       " '47247.png',\n",
       " '18743.png',\n",
       " '39955.png',\n",
       " '75.png',\n",
       " '44766.png',\n",
       " '7708.png',\n",
       " '11029.png',\n",
       " '26685.png',\n",
       " '37950.png',\n",
       " '4201.png',\n",
       " '17458.png',\n",
       " '56362.png',\n",
       " '59051.png',\n",
       " '56404.png',\n",
       " '46617.png',\n",
       " '40266.png',\n",
       " '44000.png',\n",
       " '35821.png',\n",
       " '8349.png',\n",
       " '59723.png',\n",
       " '46603.png',\n",
       " '49530.png',\n",
       " '50061.png',\n",
       " '57068.png',\n",
       " '10323.png',\n",
       " '1386.png',\n",
       " '612.png',\n",
       " '18794.png',\n",
       " '16961.png',\n",
       " '28131.png',\n",
       " '41187.png',\n",
       " '33277.png',\n",
       " '35612.png',\n",
       " '39028.png',\n",
       " '28125.png',\n",
       " '5692.png',\n",
       " '16975.png',\n",
       " '56389.png',\n",
       " '3585.png',\n",
       " '44955.png',\n",
       " '55680.png',\n",
       " '49281.png',\n",
       " '18970.png',\n",
       " '20551.png',\n",
       " '46818.png',\n",
       " '43960.png',\n",
       " '22352.png',\n",
       " '35148.png',\n",
       " '41811.png',\n",
       " '58617.png',\n",
       " '4981.png',\n",
       " '13366.png',\n",
       " '44558.png',\n",
       " '5321.png',\n",
       " '11217.png',\n",
       " '38691.png',\n",
       " '51627.png',\n",
       " '50539.png',\n",
       " '15065.png',\n",
       " '53030.png',\n",
       " '9269.png',\n",
       " '25818.png',\n",
       " '41352.png',\n",
       " '48438.png',\n",
       " '56606.png',\n",
       " '50511.png',\n",
       " '6614.png',\n",
       " '34097.png',\n",
       " '52312.png',\n",
       " '56174.png',\n",
       " '10121.png',\n",
       " '47079.png',\n",
       " '3778.png',\n",
       " '11559.png',\n",
       " '53959.png',\n",
       " '10874.png',\n",
       " '51828.png',\n",
       " '46398.png',\n",
       " '29039.png',\n",
       " '56835.png',\n",
       " '39202.png',\n",
       " '22144.png',\n",
       " '39564.png',\n",
       " '27982.png',\n",
       " '31138.png',\n",
       " '39570.png',\n",
       " '49097.png',\n",
       " '34054.png',\n",
       " '14384.png',\n",
       " '25159.png',\n",
       " '22636.png',\n",
       " '9296.png',\n",
       " '20747.png',\n",
       " '50298.png',\n",
       " '51186.png',\n",
       " '28323.png',\n",
       " '18586.png',\n",
       " '6823.png',\n",
       " '45695.png',\n",
       " '33703.png',\n",
       " '23504.png',\n",
       " '28451.png',\n",
       " '37571.png',\n",
       " '47096.png',\n",
       " '30578.png',\n",
       " '35400.png',\n",
       " '53785.png',\n",
       " '24525.png',\n",
       " '37559.png',\n",
       " '30222.png',\n",
       " '15934.png',\n",
       " '49939.png',\n",
       " '47914.png',\n",
       " '46439.png',\n",
       " '48414.png',\n",
       " '4749.png',\n",
       " '14419.png',\n",
       " '57252.png',\n",
       " '28486.png',\n",
       " '10119.png',\n",
       " '51623.png',\n",
       " '36874.png',\n",
       " '56158.png',\n",
       " '54997.png',\n",
       " '7254.png',\n",
       " '1625.png',\n",
       " '4985.png',\n",
       " '399.png',\n",
       " '14425.png',\n",
       " '23289.png',\n",
       " '52470.png',\n",
       " '31855.png',\n",
       " '40074.png',\n",
       " '20958.png',\n",
       " '27951.png',\n",
       " '22829.png',\n",
       " '55479.png',\n",
       " '12732.png',\n",
       " '9523.png',\n",
       " '42111.png',\n",
       " '44560.png',\n",
       " '47069.png',\n",
       " '16540.png',\n",
       " '38865.png',\n",
       " '36848.png',\n",
       " '5319.png',\n",
       " '2310.png',\n",
       " '33501.png',\n",
       " '44951.png',\n",
       " '29559.png',\n",
       " '39992.png',\n",
       " '28647.png',\n",
       " '50924.png',\n",
       " '38332.png',\n",
       " '4588.png',\n",
       " '31470.png',\n",
       " '34508.png',\n",
       " '23060.png',\n",
       " '27206.png',\n",
       " '47294.png',\n",
       " '38440.png',\n",
       " '50930.png',\n",
       " '24069.png',\n",
       " '26656.png',\n",
       " '30034.png',\n",
       " '22430.png',\n",
       " '29203.png',\n",
       " '32151.png',\n",
       " '44979.png',\n",
       " '34246.png',\n",
       " '15288.png',\n",
       " '5133.png',\n",
       " '38497.png',\n",
       " '19459.png',\n",
       " '39789.png',\n",
       " '15505.png',\n",
       " '48602.png',\n",
       " '10469.png',\n",
       " '5641.png',\n",
       " '32810.png',\n",
       " '38483.png',\n",
       " '28690.png',\n",
       " '37968.png',\n",
       " '4239.png',\n",
       " '2890.png',\n",
       " '825.png',\n",
       " '6406.png',\n",
       " '52114.png',\n",
       " '19303.png',\n",
       " '9047.png',\n",
       " '4563.png',\n",
       " '40262.png',\n",
       " '2112.png',\n",
       " '11993.png',\n",
       " '26859.png',\n",
       " '37954.png',\n",
       " '53381.png',\n",
       " '776.png',\n",
       " '52921.png',\n",
       " '1590.png',\n",
       " '57695.png',\n",
       " '21703.png',\n",
       " '28041.png',\n",
       " '27414.png',\n",
       " '36519.png',\n",
       " '43186.png',\n",
       " '7687.png',\n",
       " '26722.png',\n",
       " '23882.png',\n",
       " '13799.png',\n",
       " '34440.png',\n",
       " '26044.png',\n",
       " '49497.png',\n",
       " '13955.png',\n",
       " '24121.png',\n",
       " '29405.png',\n",
       " '53424.png',\n",
       " '15471.png',\n",
       " '6228.png',\n",
       " '57642.png',\n",
       " '29388.png',\n",
       " '16178.png',\n",
       " '52048.png',\n",
       " '55727.png',\n",
       " '979.png',\n",
       " '5053.png',\n",
       " '54411.png',\n",
       " '59653.png',\n",
       " '16144.png',\n",
       " '2066.png',\n",
       " '47479.png',\n",
       " '1209.png',\n",
       " '25773.png',\n",
       " '44399.png',\n",
       " '33111.png',\n",
       " '15868.png',\n",
       " '28257.png',\n",
       " '37377.png',\n",
       " '47690.png',\n",
       " '21273.png',\n",
       " '38722.png',\n",
       " '5286.png',\n",
       " '37411.png',\n",
       " '33677.png',\n",
       " '23464.png',\n",
       " '45939.png',\n",
       " '52289.png',\n",
       " '7485.png',\n",
       " '26508.png',\n",
       " '27170.png',\n",
       " '22008.png',\n",
       " '206.png',\n",
       " '30424.png',\n",
       " '36055.png',\n",
       " '15854.png',\n",
       " '54808.png',\n",
       " '45905.png',\n",
       " '19908.png',\n",
       " '28519.png',\n",
       " '22752.png',\n",
       " '32541.png',\n",
       " '12691.png',\n",
       " '34656.png',\n",
       " '24445.png',\n",
       " '47860.png',\n",
       " '49695.png',\n",
       " '10938.png',\n",
       " '19049.png',\n",
       " '17064.png',\n",
       " '18357.png',\n",
       " '45722.png',\n",
       " '58015.png',\n",
       " '38939.png',\n",
       " '57326.png',\n",
       " '47135.png',\n",
       " '18425.png',\n",
       " '43347.png',\n",
       " '6758.png',\n",
       " '13216.png',\n",
       " '53632.png',\n",
       " '48574.png',\n",
       " '4629.png',\n",
       " '47647.png',\n",
       " '11429.png',\n",
       " '46571.png',\n",
       " '49124.png',\n",
       " '59337.png',\n",
       " '33844.png',\n",
       " '12652.png',\n",
       " '22949.png',\n",
       " '52276.png',\n",
       " '10045.png',\n",
       " '19061.png',\n",
       " '16352.png',\n",
       " '51019.png',\n",
       " '14545.png',\n",
       " '42703.png',\n",
       " '15883.png',\n",
       " '12134.png',\n",
       " '44372.png',\n",
       " '21299.png',\n",
       " '9456.png',\n",
       " '12653.png',\n",
       " '15882.png',\n",
       " '58982.png',\n",
       " '49657.png',\n",
       " '56777.png',\n",
       " '40115.png',\n",
       " '19060.png',\n",
       " '59450.png',\n",
       " '11428.png',\n",
       " '19074.png',\n",
       " '59336.png',\n",
       " '56005.png',\n",
       " '36929.png',\n",
       " '29809.png',\n",
       " '18424.png',\n",
       " '51024.png',\n",
       " '55242.png',\n",
       " '13217.png',\n",
       " '13203.png',\n",
       " '28295.png',\n",
       " '48207.png',\n",
       " '58014.png',\n",
       " '5244.png',\n",
       " '12690.png',\n",
       " '3806.png',\n",
       " '17930.png',\n",
       " '36040.png',\n",
       " '20622.png',\n",
       " '59487.png',\n",
       " '24444.png',\n",
       " '53814.png',\n",
       " '53800.png',\n",
       " '1963.png',\n",
       " '30425.png',\n",
       " '21266.png',\n",
       " '52288.png',\n",
       " '42925.png',\n",
       " '56950.png',\n",
       " '28242.png',\n",
       " '29148.png',\n",
       " '32568.png',\n",
       " '54835.png',\n",
       " '27603.png',\n",
       " '19935.png',\n",
       " '30828.png',\n",
       " '16151.png',\n",
       " '14746.png',\n",
       " '13029.png',\n",
       " '12337.png',\n",
       " '32781.png',\n",
       " '54404.png',\n",
       " ...]"
      ]
     },
     "execution_count": 7,
     "metadata": {},
     "output_type": "execute_result"
    }
   ],
   "source": [
    "os.listdir('dataset/mnist_png/training/0/')"
   ]
  },
  {
   "cell_type": "markdown",
   "metadata": {},
   "source": [
    "### glob\n",
    "* glob.glob()"
   ]
  },
  {
   "cell_type": "code",
   "execution_count": 11,
   "metadata": {},
   "outputs": [],
   "source": [
    "data_paths = glob.glob('dataset/mnist_png/training/*/*.png')"
   ]
  },
  {
   "cell_type": "code",
   "execution_count": 12,
   "metadata": {},
   "outputs": [
    {
     "data": {
      "text/plain": [
       "60000"
      ]
     },
     "execution_count": 12,
     "metadata": {},
     "output_type": "execute_result"
    }
   ],
   "source": [
    "len(data_paths)"
   ]
  },
  {
   "cell_type": "code",
   "execution_count": 13,
   "metadata": {},
   "outputs": [
    {
     "data": {
      "text/plain": [
       "'dataset/mnist_png/training/9/36655.png'"
      ]
     },
     "execution_count": 13,
     "metadata": {},
     "output_type": "execute_result"
    }
   ],
   "source": [
    "data_paths[0]"
   ]
  },
  {
   "cell_type": "code",
   "execution_count": 14,
   "metadata": {},
   "outputs": [
    {
     "data": {
      "text/plain": [
       "'dataset/mnist_png/training/5/37552.png'"
      ]
     },
     "execution_count": 14,
     "metadata": {},
     "output_type": "execute_result"
    }
   ],
   "source": [
    "data_paths[-1]"
   ]
  },
  {
   "cell_type": "code",
   "execution_count": 15,
   "metadata": {},
   "outputs": [],
   "source": [
    "path = data_paths[0]"
   ]
  },
  {
   "cell_type": "code",
   "execution_count": 16,
   "metadata": {},
   "outputs": [
    {
     "data": {
      "text/plain": [
       "'dataset/mnist_png/training/9/36655.png'"
      ]
     },
     "execution_count": 16,
     "metadata": {},
     "output_type": "execute_result"
    }
   ],
   "source": [
    "path"
   ]
  },
  {
   "cell_type": "markdown",
   "metadata": {},
   "source": [
    "### Data 분석 (MNIST)"
   ]
  },
  {
   "cell_type": "code",
   "execution_count": 17,
   "metadata": {},
   "outputs": [
    {
     "data": {
      "text/plain": [
       "['9', '0', '7', '6', '1', '8', '4', '3', '2', '5']"
      ]
     },
     "execution_count": 17,
     "metadata": {},
     "output_type": "execute_result"
    }
   ],
   "source": [
    "os.listdir('dataset/mnist_png/training/')"
   ]
  },
  {
   "cell_type": "code",
   "execution_count": 18,
   "metadata": {},
   "outputs": [
    {
     "data": {
      "text/plain": [
       "10"
      ]
     },
     "execution_count": 18,
     "metadata": {},
     "output_type": "execute_result"
    }
   ],
   "source": [
    "len(os.listdir('dataset/mnist_png/training/'))"
   ]
  },
  {
   "cell_type": "markdown",
   "metadata": {},
   "source": [
    "### Data 별 갯수 비교"
   ]
  },
  {
   "cell_type": "code",
   "execution_count": 19,
   "metadata": {},
   "outputs": [
    {
     "data": {
      "text/plain": [
       "['9', '0', '7', '6', '1', '8', '4', '3', '2', '5']"
      ]
     },
     "execution_count": 19,
     "metadata": {},
     "output_type": "execute_result"
    }
   ],
   "source": [
    "label_nums = os.listdir('dataset/mnist_png/training/')\n",
    "label_nums"
   ]
  },
  {
   "cell_type": "code",
   "execution_count": 27,
   "metadata": {},
   "outputs": [
    {
     "name": "stdout",
     "output_type": "stream",
     "text": [
      "dataset/mnist_png/training/9 5949\n",
      "dataset/mnist_png/training/0 5923\n",
      "dataset/mnist_png/training/7 6265\n",
      "dataset/mnist_png/training/6 5918\n",
      "dataset/mnist_png/training/1 6742\n",
      "dataset/mnist_png/training/8 5851\n",
      "dataset/mnist_png/training/4 5842\n",
      "dataset/mnist_png/training/3 6131\n",
      "dataset/mnist_png/training/2 5958\n",
      "dataset/mnist_png/training/5 5421\n"
     ]
    }
   ],
   "source": [
    "nums_dataset = []\n",
    "for lbl_n in label_nums:\n",
    "    data_per_class = len(os.listdir('dataset/mnist_png/training/' + lbl_n))\n",
    "    print('dataset/mnist_png/training/' + lbl_n, len(os.listdir('dataset/mnist_png/training/' + lbl_n)))\n",
    "    nums_dataset.append(data_per_class)"
   ]
  },
  {
   "cell_type": "code",
   "execution_count": 31,
   "metadata": {},
   "outputs": [
    {
     "name": "stdout",
     "output_type": "stream",
     "text": [
      "9 5949\n",
      "0 5923\n",
      "7 6265\n",
      "6 5918\n",
      "1 6742\n",
      "8 5851\n",
      "4 5842\n",
      "3 6131\n",
      "2 5958\n",
      "5 5421\n"
     ]
    }
   ],
   "source": [
    "for l, n in zip(label_nums, nums_dataset):\n",
    "    print(l, n)"
   ]
  },
  {
   "cell_type": "code",
   "execution_count": 32,
   "metadata": {},
   "outputs": [
    {
     "data": {
      "image/png": "[encoded data removed]",
      "text/plain": [
       "<Figure size 432x288 with 1 Axes>"
      ]
     },
     "metadata": {
      "needs_background": "light"
     },
     "output_type": "display_data"
    }
   ],
   "source": [
    "plt.bar(label_nums, nums_dataset)\n",
    "plt.title('Number of Dataset per class')\n",
    "plt.show()"
   ]
  },
  {
   "cell_type": "markdown",
   "metadata": {},
   "source": [
    "## Image 확인"
   ]
  },
  {
   "cell_type": "markdown",
   "metadata": {},
   "source": [
    "### Pillow\n",
    "* Image.open()\n",
    "* np.array(Image.open()) # convert"
   ]
  },
  {
   "cell_type": "code",
   "execution_count": 33,
   "metadata": {},
   "outputs": [
    {
     "data": {
      "text/plain": [
       "'dataset/mnist_png/training/9/36655.png'"
      ]
     },
     "execution_count": 33,
     "metadata": {},
     "output_type": "execute_result"
    }
   ],
   "source": [
    "path # sample image path"
   ]
  },
  {
   "cell_type": "code",
   "execution_count": 35,
   "metadata": {},
   "outputs": [
    {
     "data": {
      "image/png": "[encoded data removed]",
      "text/plain": [
       "<PIL.PngImagePlugin.PngImageFile image mode=L size=28x28 at 0x7FF5E7181990>"
      ]
     },
     "execution_count": 35,
     "metadata": {},
     "output_type": "execute_result"
    }
   ],
   "source": [
    "image_pil = Image.open(path)\n",
    "image_pil"
   ]
  },
  {
   "cell_type": "code",
   "execution_count": 38,
   "metadata": {},
   "outputs": [],
   "source": [
    "image = np.array(image_pil)"
   ]
  },
  {
   "cell_type": "code",
   "execution_count": 39,
   "metadata": {},
   "outputs": [
    {
     "data": {
      "text/plain": [
       "(28, 28)"
      ]
     },
     "execution_count": 39,
     "metadata": {},
     "output_type": "execute_result"
    }
   ],
   "source": [
    "image.shape"
   ]
  },
  {
   "cell_type": "code",
   "execution_count": 40,
   "metadata": {
    "scrolled": true
   },
   "outputs": [
    {
     "data": {
      "image/png": "[encoded data removed]",
      "text/plain": [
       "<Figure size 432x288 with 1 Axes>"
      ]
     },
     "metadata": {
      "needs_background": "light"
     },
     "output_type": "display_data"
    }
   ],
   "source": [
    "plt.imshow(image, 'gray')\n",
    "plt.show()"
   ]
  },
  {
   "cell_type": "markdown",
   "metadata": {},
   "source": [
    "### TensorFlow\n",
    "* tf.io.read_file()\n",
    "* tf.io.decode_image()"
   ]
  },
  {
   "cell_type": "code",
   "execution_count": 45,
   "metadata": {},
   "outputs": [],
   "source": [
    "gfile = tf.io.read_file(path)\n",
    "image = tf.io.decode_image(gfile)"
   ]
  },
  {
   "cell_type": "code",
   "execution_count": 42,
   "metadata": {},
   "outputs": [
    {
     "data": {
      "text/plain": [
       "TensorShape([28, 28, 1])"
      ]
     },
     "execution_count": 42,
     "metadata": {},
     "output_type": "execute_result"
    }
   ],
   "source": [
    "image.shape"
   ]
  },
  {
   "cell_type": "code",
   "execution_count": 43,
   "metadata": {
    "scrolled": true
   },
   "outputs": [
    {
     "data": {
      "image/png": "[encoded data removed]",
      "text/plain": [
       "<Figure size 432x288 with 1 Axes>"
      ]
     },
     "metadata": {
      "needs_background": "light"
     },
     "output_type": "display_data"
    }
   ],
   "source": [
    "plt.imshow(image[:, :, 0], 'gray')\n",
    "plt.show()"
   ]
  },
  {
   "cell_type": "markdown",
   "metadata": {},
   "source": [
    "### Label 확인\n",
    "* split()"
   ]
  },
  {
   "cell_type": "code",
   "execution_count": 47,
   "metadata": {},
   "outputs": [
    {
     "data": {
      "text/plain": [
       "'dataset/mnist_png/training/9/36655.png'"
      ]
     },
     "execution_count": 47,
     "metadata": {},
     "output_type": "execute_result"
    }
   ],
   "source": [
    "path"
   ]
  },
  {
   "cell_type": "code",
   "execution_count": 48,
   "metadata": {},
   "outputs": [
    {
     "data": {
      "text/plain": [
       "['dataset', 'mnist_png', 'training', '9', '36655.png']"
      ]
     },
     "execution_count": 48,
     "metadata": {},
     "output_type": "execute_result"
    }
   ],
   "source": [
    "path.split('/')"
   ]
  },
  {
   "cell_type": "code",
   "execution_count": 50,
   "metadata": {},
   "outputs": [
    {
     "data": {
      "text/plain": [
       "'9'"
      ]
     },
     "execution_count": 50,
     "metadata": {},
     "output_type": "execute_result"
    }
   ],
   "source": [
    "label = path.split('/')[-2]\n",
    "label"
   ]
  },
  {
   "cell_type": "code",
   "execution_count": 51,
   "metadata": {},
   "outputs": [
    {
     "data": {
      "text/plain": [
       "str"
      ]
     },
     "execution_count": 51,
     "metadata": {},
     "output_type": "execute_result"
    }
   ],
   "source": [
    "type(label)"
   ]
  },
  {
   "cell_type": "code",
   "execution_count": 52,
   "metadata": {},
   "outputs": [],
   "source": [
    "def get_label(path):\n",
    "    class_name = path.split('/')[-2]\n",
    "    label = int(class_name)\n",
    "    return label"
   ]
  },
  {
   "cell_type": "code",
   "execution_count": 53,
   "metadata": {},
   "outputs": [
    {
     "data": {
      "text/plain": [
       "('dataset/mnist_png/training/9/36655.png', 9)"
      ]
     },
     "execution_count": 53,
     "metadata": {},
     "output_type": "execute_result"
    }
   ],
   "source": [
    "path, get_label(path)"
   ]
  },
  {
   "cell_type": "markdown",
   "metadata": {},
   "source": [
    "### data shape 확인\n",
    "* tqdm\n",
    "* np.unique()"
   ]
  },
  {
   "cell_type": "code",
   "execution_count": 83,
   "metadata": {},
   "outputs": [],
   "source": [
    "heights = []\n",
    "widths = []"
   ]
  },
  {
   "cell_type": "code",
   "execution_count": 86,
   "metadata": {},
   "outputs": [
    {
     "data": {
      "text/plain": [
       "60000"
      ]
     },
     "execution_count": 86,
     "metadata": {},
     "output_type": "execute_result"
    }
   ],
   "source": [
    "len(data_paths)"
   ]
  },
  {
   "cell_type": "code",
   "execution_count": 87,
   "metadata": {},
   "outputs": [],
   "source": [
    "for path in data_paths:\n",
    "    img_pil = Image.open(path)\n",
    "    image = np.array(img_pil)\n",
    "    h, w = image.shape\n",
    "    \n",
    "    heights.append(h)\n",
    "    widths.append(w)"
   ]
  },
  {
   "cell_type": "code",
   "execution_count": 88,
   "metadata": {},
   "outputs": [
    {
     "data": {
      "text/plain": [
       "array([28])"
      ]
     },
     "execution_count": 88,
     "metadata": {},
     "output_type": "execute_result"
    }
   ],
   "source": [
    "np.unique(heights)"
   ]
  },
  {
   "cell_type": "code",
   "execution_count": 89,
   "metadata": {},
   "outputs": [
    {
     "data": {
      "text/plain": [
       "array([28])"
      ]
     },
     "execution_count": 89,
     "metadata": {},
     "output_type": "execute_result"
    }
   ],
   "source": [
    "np.unique(widths)"
   ]
  },
  {
   "cell_type": "code",
   "execution_count": 91,
   "metadata": {},
   "outputs": [
    {
     "data": {
      "image/png": "[encoded data removed]",
      "text/plain": [
       "<Figure size 1440x720 with 2 Axes>"
      ]
     },
     "metadata": {
      "needs_background": "light"
     },
     "output_type": "display_data"
    }
   ],
   "source": [
    "plt.figure(figsize=(20, 10))\n",
    "plt.subplot(121)\n",
    "plt.hist(heights)\n",
    "plt.title('Heights')\n",
    "plt.axvline(np.mean(heights), color='r', linestyle='dashed', linewidth=2)\n",
    "\n",
    "plt.subplot(122)\n",
    "plt.hist(widths)\n",
    "plt.title('Widths')\n",
    "plt.axvline(np.mean(widths), color='r', linestyle='dashed', linewidth=2)\n",
    "plt.show()"
   ]
  },
  {
   "cell_type": "code",
   "execution_count": null,
   "metadata": {},
   "outputs": [],
   "source": []
  }
 ],
 "metadata": {
  "kernelspec": {
   "display_name": "Python 3",
   "language": "python",
   "name": "python3"
  },
  "language_info": {
   "codemirror_mode": {
    "name": "ipython",
    "version": 3
   },
   "file_extension": ".py",
   "mimetype": "text/x-python",
   "name": "python",
   "nbconvert_exporter": "python",
   "pygments_lexer": "ipython3",
   "version": "3.7.7"
  }
 },
 "nbformat": 4,
 "nbformat_minor": 4
}
